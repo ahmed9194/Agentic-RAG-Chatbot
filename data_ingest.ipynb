{
 "cells": [
  {
   "cell_type": "code",
   "execution_count": 7,
   "id": "67d0a310-36c8-4ad5-addb-a31718bfa99c",
   "metadata": {},
   "outputs": [
    {
     "name": "stderr",
     "output_type": "stream",
     "text": [
      "100%|██████████| 20491/20491 [00:01<00:00, 15329.62it/s]\n"
     ]
    },
    {
     "name": "stdout",
     "output_type": "stream",
     "text": [
      "✅ Processing complete. Total chunks: 20748\n"
     ]
    }
   ],
   "source": [
    "import pandas as pd\n",
    "import re\n",
    "import json\n",
    "from tqdm import tqdm\n",
    "\n",
    "# Load data\n",
    "df = pd.read_csv(r\"C:\\Users\\user\\Desktop\\tripadvisor_hotel_reviews.csv\")\n",
    "df = df.dropna()\n",
    "\n",
    "# Clean text\n",
    "def clean_text(text):\n",
    "    text = re.sub(r'<.*?>', '', text)  # remove HTML tags\n",
    "    text = re.sub(r'[^a-zA-Z0-9\\s.,!?]', '', text)  # remove special characters\n",
    "    return text.strip()\n",
    "\n",
    "df['clean_review'] = df['Review'].apply(clean_text)\n",
    "\n",
    "# Split into ~500 token chunks (using simple sentence split)\n",
    "chunks = []\n",
    "chunk_id = 0\n",
    "\n",
    "for i, row in tqdm(df.iterrows(), total=len(df)):\n",
    "    sentences = re.split(r'(?<=[.!?]) +', row['clean_review'])  # Simple sentence split\n",
    "    current_chunk = \"\"\n",
    "    for sentence in sentences:\n",
    "        if len(current_chunk.split()) + len(sentence.split()) < 500:\n",
    "            current_chunk += \" \" + sentence\n",
    "        else:\n",
    "            chunks.append({\n",
    "                \"id\": chunk_id,\n",
    "                \"source\": \"tripadvisor\",\n",
    "                \"category\": \"hotel_review\",\n",
    "                \"text\": current_chunk.strip()\n",
    "            })\n",
    "            chunk_id += 1\n",
    "            current_chunk = sentence\n",
    "    if current_chunk:\n",
    "        chunks.append({\n",
    "            \"id\": chunk_id,\n",
    "            \"source\": \"tripadvisor\",\n",
    "            \"category\": \"hotel_review\",\n",
    "            \"text\": current_chunk.strip()\n",
    "        })\n",
    "        chunk_id += 1\n",
    "\n",
    "# Save to JSON\n",
    "with open(\"processed_chunks.json\", \"w\", encoding='utf-8') as f:\n",
    "    json.dump(chunks, f, ensure_ascii=False, indent=2)\n",
    "\n",
    "print(\"✅ Processing complete. Total chunks:\", len(chunks))\n"
   ]
  },
  {
   "cell_type": "code",
   "execution_count": null,
   "id": "33f92308-5656-4400-ace8-5734cb1ed202",
   "metadata": {},
   "outputs": [],
   "source": []
  }
 ],
 "metadata": {
  "kernelspec": {
   "display_name": "Python [conda env:Orange]",
   "language": "python",
   "name": "conda-env-Orange-py"
  },
  "language_info": {
   "codemirror_mode": {
    "name": "ipython",
    "version": 3
   },
   "file_extension": ".py",
   "mimetype": "text/x-python",
   "name": "python",
   "nbconvert_exporter": "python",
   "pygments_lexer": "ipython3",
   "version": "3.11.8"
  }
 },
 "nbformat": 4,
 "nbformat_minor": 5
}
